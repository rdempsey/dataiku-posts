{
 "cells": [
  {
   "cell_type": "markdown",
   "metadata": {},
   "source": [
    "# Create a Fake Dataset"
   ]
  },
  {
   "cell_type": "markdown",
   "metadata": {},
   "source": [
    "This notebook will create a fake, 10k row dataset for use in examples showing how to clean and standardize data."
   ]
  },
  {
   "cell_type": "markdown",
   "metadata": {},
   "source": [
    "## Requirements\n",
    "\n",
    "* Python >= 3.5.1\n",
    "* pandas >= 0.17.1\n",
    "* numpy >= 1.10.4\n",
    "* faker >= 0.5.3"
   ]
  },
  {
   "cell_type": "markdown",
   "metadata": {},
   "source": [
    "## The Code"
   ]
  },
  {
   "cell_type": "code",
   "execution_count": 3,
   "metadata": {
    "collapsed": false
   },
   "outputs": [],
   "source": [
    "# Import the libraries we'll need\n",
    "from faker import Factory    # pip install fake-factory\n",
    "import pandas as pd\n",
    "import numpy as np\n",
    "import random"
   ]
  },
  {
   "cell_type": "code",
   "execution_count": 4,
   "metadata": {
    "collapsed": true
   },
   "outputs": [],
   "source": [
    "# Create and initialize a faker generator\n",
    "fake = Factory.create()"
   ]
  },
  {
   "cell_type": "code",
   "execution_count": 5,
   "metadata": {
    "collapsed": false
   },
   "outputs": [],
   "source": [
    "# Create a randomly formatted name\n",
    "def random_name():\n",
    "    r = random.randint(1,2)\n",
    "    if r == 1:\n",
    "        full_name = fake.first_name() + \" \" + fake.last_name()\n",
    "    else:\n",
    "        full_name = \" \" + fake.first_name() + \" \" + fake.last_name()\n",
    "    return full_name"
   ]
  },
  {
   "cell_type": "code",
   "execution_count": 6,
   "metadata": {
    "collapsed": false
   },
   "outputs": [],
   "source": [
    "# Create a randomly formatted date\n",
    "def random_date():\n",
    "    r = random.randint(1,3)\n",
    "    if r == 1:\n",
    "        random_date = fake.date()\n",
    "    elif r == 2:\n",
    "        random_date = fake.date_time()\n",
    "    else:\n",
    "        random_date = \"{}/{}/{}\".format(fake.month(),\n",
    "                                        fake.day_of_month(),\n",
    "                                        fake.year())\n",
    "    return random_date"
   ]
  },
  {
   "cell_type": "code",
   "execution_count": 7,
   "metadata": {
    "collapsed": true
   },
   "outputs": [],
   "source": [
    "# Create a random row of data\n",
    "def create_random_row():\n",
    "    row = [\n",
    "        random_name(),\n",
    "        fake.street_address(),\n",
    "        fake.city(),\n",
    "        fake.state() ,\n",
    "        fake.postcode(),\n",
    "        fake.phone_number() ,\n",
    "        fake.free_email(),\n",
    "        fake.company(),\n",
    "        fake.street_address(),\n",
    "        fake.city(),\n",
    "        fake.state(),\n",
    "        fake.postcode(),\n",
    "        fake.phone_number() ,\n",
    "        fake.company_email(),\n",
    "        random_date()\n",
    "    ]\n",
    "    return row"
   ]
  },
  {
   "cell_type": "code",
   "execution_count": 8,
   "metadata": {
    "collapsed": true
   },
   "outputs": [],
   "source": [
    "# List of columns for our dataframe\n",
    "cols = [\n",
    "    'name',\n",
    "    'address',\n",
    "    'city',\n",
    "    'state',\n",
    "    'zip',\n",
    "    'phone',\n",
    "    'email',\n",
    "    'work',\n",
    "    'work address',\n",
    "    'work city',\n",
    "    'work state',\n",
    "    'work zipcode',\n",
    "    'work phone',\n",
    "    'work email',\n",
    "    'account created on'\n",
    "]"
   ]
  },
  {
   "cell_type": "code",
   "execution_count": 9,
   "metadata": {
    "collapsed": false
   },
   "outputs": [],
   "source": [
    "# Create an empty dataframe from the column list\n",
    "df = pd.DataFrame(columns=cols)"
   ]
  },
  {
   "cell_type": "code",
   "execution_count": 10,
   "metadata": {
    "collapsed": false
   },
   "outputs": [
    {
     "data": {
      "text/html": [
       "<div>\n",
       "<table border=\"1\" class=\"dataframe\">\n",
       "  <thead>\n",
       "    <tr style=\"text-align: right;\">\n",
       "      <th></th>\n",
       "      <th>name</th>\n",
       "      <th>address</th>\n",
       "      <th>city</th>\n",
       "      <th>state</th>\n",
       "      <th>zip</th>\n",
       "      <th>phone</th>\n",
       "      <th>email</th>\n",
       "      <th>work</th>\n",
       "      <th>work address</th>\n",
       "      <th>work city</th>\n",
       "      <th>work state</th>\n",
       "      <th>work zipcode</th>\n",
       "      <th>work phone</th>\n",
       "      <th>work email</th>\n",
       "      <th>account created on</th>\n",
       "    </tr>\n",
       "  </thead>\n",
       "  <tbody>\n",
       "    <tr>\n",
       "      <th>0</th>\n",
       "      <td>Deonte Stark</td>\n",
       "      <td>278 Mueller Plains</td>\n",
       "      <td>North Euna</td>\n",
       "      <td>Alabama</td>\n",
       "      <td>03404-4384</td>\n",
       "      <td>(180)940-9676x4495</td>\n",
       "      <td>shanna73@hotmail.com</td>\n",
       "      <td>Hahn-Mayer</td>\n",
       "      <td>8177 Weber Throughway Apt. 341</td>\n",
       "      <td>Jaronton</td>\n",
       "      <td>Maine</td>\n",
       "      <td>51589-1424</td>\n",
       "      <td>01240240340</td>\n",
       "      <td>heller.kirstin@glover.com</td>\n",
       "      <td>2001-09-06 06:15:24</td>\n",
       "    </tr>\n",
       "    <tr>\n",
       "      <th>1</th>\n",
       "      <td>Faustino Boyer</td>\n",
       "      <td>70244 Skiles Falls Suite 030</td>\n",
       "      <td>North Altohaven</td>\n",
       "      <td>California</td>\n",
       "      <td>01522-1310</td>\n",
       "      <td>(308)699-6239x81011</td>\n",
       "      <td>ferrell81@gmail.com</td>\n",
       "      <td>Buckridge Inc</td>\n",
       "      <td>236 Kessler Center</td>\n",
       "      <td>New Gavynshire</td>\n",
       "      <td>Missouri</td>\n",
       "      <td>52234-6972</td>\n",
       "      <td>(486)896-6855x446</td>\n",
       "      <td>esta.dicki@bechtelar.com</td>\n",
       "      <td>1983-04-25</td>\n",
       "    </tr>\n",
       "    <tr>\n",
       "      <th>2</th>\n",
       "      <td>Eddy Bogisich</td>\n",
       "      <td>33431 Dollie Squares Apt. 654</td>\n",
       "      <td>Port Campbell</td>\n",
       "      <td>New York</td>\n",
       "      <td>37768-2026</td>\n",
       "      <td>01142290278</td>\n",
       "      <td>mirna.dickens@yahoo.com</td>\n",
       "      <td>Green, Bradtke and Fritsch</td>\n",
       "      <td>042 Gottlieb Mountain Apt. 404</td>\n",
       "      <td>Rodriguezton</td>\n",
       "      <td>New York</td>\n",
       "      <td>72843</td>\n",
       "      <td>410.238.3556</td>\n",
       "      <td>wwalter@carter.com</td>\n",
       "      <td>2013-03-15</td>\n",
       "    </tr>\n",
       "    <tr>\n",
       "      <th>3</th>\n",
       "      <td>Mervyn Kreiger</td>\n",
       "      <td>376 Dorinda Stream</td>\n",
       "      <td>Shaniquafort</td>\n",
       "      <td>South Carolina</td>\n",
       "      <td>39347-4438</td>\n",
       "      <td>869-985-6299</td>\n",
       "      <td>emmerich.griselda@hotmail.com</td>\n",
       "      <td>Witting PLC</td>\n",
       "      <td>521 Kemmer Manors</td>\n",
       "      <td>Nerytown</td>\n",
       "      <td>Kentucky</td>\n",
       "      <td>68774</td>\n",
       "      <td>(212)169-8190</td>\n",
       "      <td>greyson39@purdy.com</td>\n",
       "      <td>1971-04-27 14:05:06</td>\n",
       "    </tr>\n",
       "    <tr>\n",
       "      <th>4</th>\n",
       "      <td>Katlyn Doyle</td>\n",
       "      <td>4650 Beer Crossing Suite 848</td>\n",
       "      <td>North Dellside</td>\n",
       "      <td>Kentucky</td>\n",
       "      <td>25794</td>\n",
       "      <td>1-184-809-6600</td>\n",
       "      <td>junious.oreilly@gmail.com</td>\n",
       "      <td>Gaylord, Parisian and Walter</td>\n",
       "      <td>586 Frank Lights</td>\n",
       "      <td>Lake Cynthiafurt</td>\n",
       "      <td>Texas</td>\n",
       "      <td>78014-9162</td>\n",
       "      <td>(929)923-2385x053</td>\n",
       "      <td>sankunding@predovic.org</td>\n",
       "      <td>1999-03-21 14:43:15</td>\n",
       "    </tr>\n",
       "  </tbody>\n",
       "</table>\n",
       "</div>"
      ],
      "text/plain": [
       "             name                        address             city  \\\n",
       "0    Deonte Stark             278 Mueller Plains       North Euna   \n",
       "1  Faustino Boyer   70244 Skiles Falls Suite 030  North Altohaven   \n",
       "2   Eddy Bogisich  33431 Dollie Squares Apt. 654    Port Campbell   \n",
       "3  Mervyn Kreiger             376 Dorinda Stream     Shaniquafort   \n",
       "4    Katlyn Doyle   4650 Beer Crossing Suite 848   North Dellside   \n",
       "\n",
       "            state         zip                phone  \\\n",
       "0         Alabama  03404-4384   (180)940-9676x4495   \n",
       "1      California  01522-1310  (308)699-6239x81011   \n",
       "2        New York  37768-2026          01142290278   \n",
       "3  South Carolina  39347-4438         869-985-6299   \n",
       "4        Kentucky       25794       1-184-809-6600   \n",
       "\n",
       "                           email                          work  \\\n",
       "0           shanna73@hotmail.com                    Hahn-Mayer   \n",
       "1            ferrell81@gmail.com                 Buckridge Inc   \n",
       "2        mirna.dickens@yahoo.com    Green, Bradtke and Fritsch   \n",
       "3  emmerich.griselda@hotmail.com                   Witting PLC   \n",
       "4      junious.oreilly@gmail.com  Gaylord, Parisian and Walter   \n",
       "\n",
       "                     work address         work city work state work zipcode  \\\n",
       "0  8177 Weber Throughway Apt. 341          Jaronton      Maine   51589-1424   \n",
       "1              236 Kessler Center    New Gavynshire   Missouri   52234-6972   \n",
       "2  042 Gottlieb Mountain Apt. 404      Rodriguezton   New York        72843   \n",
       "3               521 Kemmer Manors          Nerytown   Kentucky        68774   \n",
       "4                586 Frank Lights  Lake Cynthiafurt      Texas   78014-9162   \n",
       "\n",
       "          work phone                 work email   account created on  \n",
       "0        01240240340  heller.kirstin@glover.com  2001-09-06 06:15:24  \n",
       "1  (486)896-6855x446   esta.dicki@bechtelar.com           1983-04-25  \n",
       "2       410.238.3556         wwalter@carter.com           2013-03-15  \n",
       "3      (212)169-8190        greyson39@purdy.com  1971-04-27 14:05:06  \n",
       "4  (929)923-2385x053    sankunding@predovic.org  1999-03-21 14:43:15  "
      ]
     },
     "execution_count": 10,
     "metadata": {},
     "output_type": "execute_result"
    }
   ],
   "source": [
    "# Add the fake data to the dataframe; 10k rows is good\n",
    "# FYI: this can take a little bit\n",
    "for i in range(0,10000):\n",
    "    r = create_random_row()\n",
    "    df.loc[i] = r\n",
    "df.head()"
   ]
  },
  {
   "cell_type": "code",
   "execution_count": 11,
   "metadata": {
    "collapsed": false
   },
   "outputs": [],
   "source": [
    "# Set some random number of values to NaN\n",
    "for i in range(0,random.randint(0,1746)):\n",
    "    row = random.randint(0,10000)\n",
    "    column = random.randint(0,14)\n",
    "    df.ix[row,column] = np.nan"
   ]
  },
  {
   "cell_type": "code",
   "execution_count": 12,
   "metadata": {
    "collapsed": true
   },
   "outputs": [],
   "source": [
    "# Save the data to a csv file for use\n",
    "df.to_csv('dss_dirty_data_example.csv', index=False)"
   ]
  },
  {
   "cell_type": "code",
   "execution_count": null,
   "metadata": {
    "collapsed": true
   },
   "outputs": [],
   "source": []
  }
 ],
 "metadata": {
  "kernelspec": {
   "display_name": "Python 3",
   "language": "python",
   "name": "python3"
  },
  "language_info": {
   "codemirror_mode": {
    "name": "ipython",
    "version": 3
   },
   "file_extension": ".py",
   "mimetype": "text/x-python",
   "name": "python",
   "nbconvert_exporter": "python",
   "pygments_lexer": "ipython3",
   "version": "3.5.1"
  }
 },
 "nbformat": 4,
 "nbformat_minor": 0
}
