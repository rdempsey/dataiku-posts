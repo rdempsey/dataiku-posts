{
 "cells": [
  {
   "cell_type": "markdown",
   "metadata": {},
   "source": [
    "# Create a Fake Dataset"
   ]
  },
  {
   "cell_type": "markdown",
   "metadata": {},
   "source": [
    "This notebook will create a fake, 10k row dataset for use in examples showing how to clean and standardize data."
   ]
  },
  {
   "cell_type": "markdown",
   "metadata": {},
   "source": [
    "## Requirements\n",
    "\n",
    "* Python >= 3.5.1\n",
    "* pandas >= 0.17.1\n",
    "* numpy >= 1.10.4\n",
    "* faker >= 0.5.3"
   ]
  },
  {
   "cell_type": "markdown",
   "metadata": {},
   "source": [
    "## The Code"
   ]
  },
  {
   "cell_type": "code",
   "execution_count": null,
   "metadata": {
    "collapsed": false
   },
   "outputs": [],
   "source": [
    "# Import the libraries we'll need\n",
    "from faker import Factory    # pip install fake-factory\n",
    "import pandas as pd\n",
    "import numpy as np\n",
    "import random"
   ]
  },
  {
   "cell_type": "code",
   "execution_count": null,
   "metadata": {
    "collapsed": true
   },
   "outputs": [],
   "source": [
    "# Create and initialize a faker generator\n",
    "fake = Factory.create()"
   ]
  },
  {
   "cell_type": "code",
   "execution_count": null,
   "metadata": {
    "collapsed": false
   },
   "outputs": [],
   "source": [
    "# Create a randomly formatted name\n",
    "def random_name():\n",
    "    r = random.randint(1,2)\n",
    "    if r == 1:\n",
    "        full_name = fake.first_name() + \" \" + fake.last_name()\n",
    "    else:\n",
    "        full_name = \" \" + fake.first_name() + \" \" + fake.last_name()\n",
    "    return full_name"
   ]
  },
  {
   "cell_type": "code",
   "execution_count": null,
   "metadata": {
    "collapsed": false
   },
   "outputs": [],
   "source": [
    "# Create a randomly formatted date\n",
    "def random_date():\n",
    "    r = random.randint(1,3)\n",
    "    if r == 1:\n",
    "        random_date = fake.date()\n",
    "    elif r == 2:\n",
    "        random_date = fake.date_time()\n",
    "    else:\n",
    "        random_date = \"{}/{}/{}\".format(fake.month(),\n",
    "                                        fake.day_of_month(),\n",
    "                                        fake.year())\n",
    "    return random_date"
   ]
  },
  {
   "cell_type": "code",
   "execution_count": null,
   "metadata": {
    "collapsed": true
   },
   "outputs": [],
   "source": [
    "# Create a random row of data\n",
    "def create_random_row():\n",
    "    row = [\n",
    "        random_name(),\n",
    "        fake.street_address(),\n",
    "        fake.city(),\n",
    "        fake.state() ,\n",
    "        fake.postcode(),\n",
    "        fake.phone_number() ,\n",
    "        fake.free_email(),\n",
    "        fake.company(),\n",
    "        fake.street_address(),\n",
    "        fake.city(),\n",
    "        fake.state(),\n",
    "        fake.postcode(),\n",
    "        fake.phone_number() ,\n",
    "        fake.company_email(),\n",
    "        random_date()\n",
    "    ]\n",
    "    return row"
   ]
  },
  {
   "cell_type": "code",
   "execution_count": null,
   "metadata": {
    "collapsed": true
   },
   "outputs": [],
   "source": [
    "# List of columns for our dataframe\n",
    "cols = [\n",
    "    'name',\n",
    "    'address',\n",
    "    'city',\n",
    "    'state',\n",
    "    'zip',\n",
    "    'phone',\n",
    "    'email',\n",
    "    'work',\n",
    "    'work address',\n",
    "    'work city',\n",
    "    'work state',\n",
    "    'work zipcode',\n",
    "    'work phone',\n",
    "    'work email',\n",
    "    'account created on'\n",
    "]"
   ]
  },
  {
   "cell_type": "code",
   "execution_count": null,
   "metadata": {
    "collapsed": false
   },
   "outputs": [],
   "source": [
    "# Create an empty dataframe from the column list\n",
    "df = pd.DataFrame(columns=cols)"
   ]
  },
  {
   "cell_type": "code",
   "execution_count": null,
   "metadata": {
    "collapsed": false
   },
   "outputs": [],
   "source": [
    "# Add the fake data to the dataframe; 10k rows is good\n",
    "# FYI: this can take a little bit\n",
    "for i in range(0,10000):\n",
    "    r = create_random_row()\n",
    "    df.loc[i] = r\n",
    "df.head()"
   ]
  },
  {
   "cell_type": "code",
   "execution_count": null,
   "metadata": {
    "collapsed": false
   },
   "outputs": [],
   "source": [
    "# Set some random number of values to NaN\n",
    "for i in range(0,random.randint(0,1746)):\n",
    "    row = random.randint(0,10000)\n",
    "    column = random.randint(0,14)\n",
    "    df.ix[row,column] = np.nan"
   ]
  },
  {
   "cell_type": "code",
   "execution_count": null,
   "metadata": {
    "collapsed": true
   },
   "outputs": [],
   "source": [
    "# Save the data to a csv file for use\n",
    "df.to_csv('dss_dirty_data_example.csv', index=False)"
   ]
  },
  {
   "cell_type": "code",
   "execution_count": null,
   "metadata": {
    "collapsed": true
   },
   "outputs": [],
   "source": []
  }
 ],
 "metadata": {
  "kernelspec": {
   "display_name": "Python 3",
   "language": "python",
   "name": "python3"
  },
  "language_info": {
   "codemirror_mode": {
    "name": "ipython",
    "version": 3
   },
   "file_extension": ".py",
   "mimetype": "text/x-python",
   "name": "python",
   "nbconvert_exporter": "python",
   "pygments_lexer": "ipython3",
   "version": "3.5.1"
  }
 },
 "nbformat": 4,
 "nbformat_minor": 0
}
